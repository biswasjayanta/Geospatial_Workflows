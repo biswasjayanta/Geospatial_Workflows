{
 "cells": [
  {
   "cell_type": "code",
   "execution_count": 1,
   "id": "5072bea1-d4f2-442d-be48-90b22c9b73eb",
   "metadata": {},
   "outputs": [],
   "source": [
    "import arcpy\n",
    "import os"
   ]
  },
  {
   "cell_type": "code",
   "execution_count": null,
   "id": "88266a3f-72cc-4f07-b7c8-b6f10b120518",
   "metadata": {
    "scrolled": true
   },
   "outputs": [
    {
     "name": "stdout",
     "output_type": "stream",
     "text": [
      "✅ Clipping completed for buffer: StuydSites_Apr_PairwiseBuffe2\n"
     ]
    }
   ],
   "source": [
    "# Set environment\n",
    "arcpy.env.workspace = r\"C:\\Users\\USER\\OneDrive - The University of Memphis\\TDOT_project\\TDOT\\TDOT.gdb\"\n",
    "arcpy.env.overwriteOutput = True\n",
    "\n",
    "# Define buffer sets and corresponding parameters\n",
    "buffer_sets = [\n",
    "\n",
    "    {\n",
    "        \"buffer\": r\"C:\\Users\\jbiswas\\OneDrive - The University of Memphis\\TDOT_project\\TDOT\\TDOT.gdb\\StuydSites_Apr_PairwiseBuffe2\",\n",
    "        \"field\": \"TN_TIMES_I\",\n",
    "        \"output_folder\": r\"D:\\LandCoverUS\\LandCover_Study_2\"\n",
    "    },\n",
    "    {\n",
    "        \"buffer\": r\"C:\\Users\\jbiswas\\OneDrive - The University of Memphis\\TDOT_project\\TDOT\\TDOT.gdb\\StuydSites_Apr_PairwiseBuffe4\",\n",
    "        \"field\": \"TN_TIMES_I\",\n",
    "        \"output_folder\": r\"D:\\LandCoverUS\\LandCover_Study_4\"\n",
    "    },\n",
    "    {\n",
    "        \"buffer\": r\"C:\\Users\\jbiswas\\OneDrive - The University of Memphis\\TDOT_project\\TDOT\\TDOT.gdb\\ComparisonSite_PairwiseBuffe1\",\n",
    "        \"field\": \"TN_ID\",\n",
    "        \"output_folder\": r\"D:\\LandCoverUS\\LandCover_Comp_1\"\n",
    "    },\n",
    "    {\n",
    "        \"buffer\": r\"C:\\Users\\jbiswas\\OneDrive - The University of Memphis\\TDOT_project\\TDOT\\TDOT.gdb\\ComparisonSite_PairwiseBuffe2\",\n",
    "        \"field\": \"TN_ID\",\n",
    "        \"output_folder\": r\"D:\\LandCoverUS\\LandCover_Comp_2\"\n",
    "    },\n",
    "    {\n",
    "        \"buffer\": r\"C:\\Users\\jbiswas\\OneDrive - The University of Memphis\\TDOT_project\\TDOT\\TDOT.gdb\\ComparisonSite_PairwiseBuffe4\",\n",
    "        \"field\": \"TN_ID\",\n",
    "        \"output_folder\": r\"D:\\LandCoverUS\\LandCover_Comp_4\"\n",
    "    }\n",
    "]\n",
    "\n",
    "# Input raster folder\n",
    "raster_folder = r\"D:\\LandCoverUS\\TN_LandCover_Reclass\"\n",
    "arcpy.env.workspace = raster_folder\n",
    "rasters = arcpy.ListRasters(\"*\", \"ALL\")\n",
    "\n",
    "# Function to clip rasters using a buffer layer\n",
    "def clip_rasters(buffer_path, id_field, output_folder):\n",
    "    if not os.path.exists(output_folder):\n",
    "        os.makedirs(output_folder)\n",
    "\n",
    "    segment_ids = [row[0] for row in arcpy.da.SearchCursor(buffer_path, [id_field])]\n",
    "\n",
    "    for segment_id in segment_ids:\n",
    "        query = f\"{id_field} = {segment_id}\"\n",
    "        selected_buffer = arcpy.management.SelectLayerByAttribute(buffer_path, \"NEW_SELECTION\", query)\n",
    "\n",
    "        for raster in rasters:\n",
    "            raster_name = os.path.splitext(raster)[0]\n",
    "            output_raster = os.path.join(output_folder, f\"{segment_id}_{raster_name}.tif\")\n",
    "\n",
    "            arcpy.Clip_management(\n",
    "                in_raster=raster,\n",
    "                rectangle=\"#\",\n",
    "                out_raster=output_raster,\n",
    "                in_template_dataset=selected_buffer,\n",
    "                nodata_value=\"#\",\n",
    "                clipping_geometry=\"ClippingGeometry\",\n",
    "                maintain_clipping_extent=\"MAINTAIN_EXTENT\"\n",
    "            )\n",
    "\n",
    "            \n",
    "    print(f\"✅ Clipping completed for buffer: {os.path.basename(buffer_path)}\")\n",
    "\n",
    "# Run clipping for each buffer set\n",
    "for buffer in buffer_sets:\n",
    "    clip_rasters(buffer[\"buffer\"], buffer[\"field\"], buffer[\"output_folder\"])\n"
   ]
  },
  {
   "cell_type": "code",
   "execution_count": null,
   "id": "ccca1d80-dfbf-46f2-a9f4-aaf9dec961c0",
   "metadata": {},
   "outputs": [],
   "source": []
  }
 ],
 "metadata": {
  "kernelspec": {
   "display_name": "Python 3 (ipykernel)",
   "language": "python",
   "name": "python3"
  },
  "language_info": {
   "codemirror_mode": {
    "name": "ipython",
    "version": 3
   },
   "file_extension": ".py",
   "mimetype": "text/x-python",
   "name": "python",
   "nbconvert_exporter": "python",
   "pygments_lexer": "ipython3",
   "version": "3.11.8"
  }
 },
 "nbformat": 4,
 "nbformat_minor": 5
}
