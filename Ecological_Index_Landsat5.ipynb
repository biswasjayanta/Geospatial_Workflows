{
 "cells": [
  {
   "cell_type": "markdown",
   "id": "0c8bd63b-c9a4-49b4-8f9c-e42c51a0e1f8",
   "metadata": {},
   "source": [
    "**Install Required Packages**"
   ]
  },
  {
   "cell_type": "code",
   "execution_count": 1,
   "id": "fbdb9f48-e37b-4f59-88f8-dc6809ed8dec",
   "metadata": {},
   "outputs": [],
   "source": [
    "import pandas as pd\n",
    "import rasterio\n",
    "import geopandas as gpd\n",
    "import geemap\n",
    "import ee\n",
    "import numpy as np\n",
    "from sklearn.preprocessing import MinMaxScaler\n",
    "from sklearn.decomposition import PCA\n",
    "import matplotlib.pyplot as plt\n",
    "import fiona\n",
    "from fiona import listlayers\n",
    "import geojson\n",
    "import json\n",
    "import os"
   ]
  },
  {
   "cell_type": "markdown",
   "id": "a12728bc-9228-471b-ae40-5b785fe59754",
   "metadata": {},
   "source": [
    "**Landsat-5**"
   ]
  },
  {
   "cell_type": "code",
   "execution_count": 3,
   "id": "8ad1acde-dbc9-4161-97b9-5c985e311344",
   "metadata": {},
   "outputs": [
    {
     "data": {
      "text/html": [
       "\n",
       "            <style>\n",
       "                .geemap-dark {\n",
       "                    --jp-widgets-color: white;\n",
       "                    --jp-widgets-label-color: white;\n",
       "                    --jp-ui-font-color1: white;\n",
       "                    --jp-layout-color2: #454545;\n",
       "                    background-color: #383838;\n",
       "                }\n",
       "\n",
       "                .geemap-dark .jupyter-button {\n",
       "                    --jp-layout-color3: #383838;\n",
       "                }\n",
       "\n",
       "                .geemap-colab {\n",
       "                    background-color: var(--colab-primary-surface-color, white);\n",
       "                }\n",
       "\n",
       "                .geemap-colab .jupyter-button {\n",
       "                    --jp-layout-color3: var(--colab-primary-surface-color, white);\n",
       "                }\n",
       "            </style>\n",
       "            "
      ],
      "text/plain": [
       "<IPython.core.display.HTML object>"
      ]
     },
     "metadata": {},
     "output_type": "display_data"
    }
   ],
   "source": [
    "# Function to calculate NDVI\n",
    "def calculate_ndvi5(image):\n",
    "    nir = image.select('SR_B4')  # NIR for Landsat 5\n",
    "    red = image.select('SR_B3')  # Red for Landsat 5\n",
    "    ndvi = image.expression(\n",
    "        '(NIR - RED) / (NIR + RED)',\n",
    "        {\n",
    "            'NIR': nir,\n",
    "            'RED': red\n",
    "        }\n",
    "    ).rename('NDVI')\n",
    "    return ndvi\n",
    "# Function to calculate NDSI\n",
    "def calculate_ndsi5(image):\n",
    "    nir = image.select('SR_B4')  # NIR for Landsat 5\n",
    "    red = image.select('SR_B3')  # Red for Landsat 5\n",
    "    ndsi = image.expression(\n",
    "        '(RED - NIR) / (NIR + RED)',\n",
    "        {\n",
    "            'NIR': nir,\n",
    "            'RED': red\n",
    "        }\n",
    "    ).rename('NDSI')\n",
    "    return ndsi\n",
    "# Function to calculate MNDWI\n",
    "def calculate_mndwi5(image):\n",
    "    green = image.select('SR_B2')  # Green for Landsat 5\n",
    "    swir1 = image.select('SR_B5')  # SWIR1 for Landsat 5\n",
    "    mndwi = image.expression(\n",
    "        '(GREEN - SWIR1) / (GREEN + SWIR1)',\n",
    "        {\n",
    "            'GREEN': green,\n",
    "            'SWIR1': swir1\n",
    "        }\n",
    "    ).rename('MNDWI')\n",
    "    return mndwi\n",
    "# Function to calculate Wetness\n",
    "def calculate_wet5(image):\n",
    "    blue = image.select('SR_B1')  # Blue for Landsat 5\n",
    "    green = image.select('SR_B2')  # Green for Landsat 5\n",
    "    red = image.select('SR_B3')  # Red for Landsat 5\n",
    "    nir = image.select('SR_B4')  # NIR for Landsat 5\n",
    "    swir1 = image.select('SR_B5')  # SWIR1 for Landsat 5\n",
    "    swir2 = image.select('SR_B7')  # SWIR2 for Landsat 5\n",
    "    wetness = image.expression(\n",
    "        '(0.0315*BLUE) +(0.2021*GREEN)+(0.3102*RED)+(0.1594*NIR)-(0.6806*SWIR1)-(0.6109*SWIR2)',\n",
    "        {\n",
    "            'BLUE': blue,\n",
    "            'GREEN': green,\n",
    "            'RED': red,\n",
    "            'NIR': nir,\n",
    "            'SWIR1': swir1,\n",
    "            'SWIR2': swir2\n",
    "        }\n",
    "    ).rename('Wetness')\n",
    "    return wetness\n",
    "\n",
    "# Function to calculate NDBSI\n",
    "def calculate_ndbsi5(image):\n",
    "    blue = image.select('B1')  # Blue for Landsat 5\n",
    "    green = image.select('B2')  # Green for Landsat 5\n",
    "    red = image.select('B3')  # Red for Landsat 5\n",
    "    nir = image.select('B4')  # NIR for Landsat 5\n",
    "    swir1 = image.select('B5')  # SWIR1 for Landsat 5\n",
    "    swir2 = image.select('B7')  # SWIR2 for Landsat 5\n",
    "    si = image.expression(\n",
    "        '((SWIR1 + RED) - (NIR + BLUE)) / ((SWIR1 + RED) + (NIR + BLUE))',\n",
    "        {\n",
    "            'NIR': nir,\n",
    "            'RED': red,\n",
    "            'GREEN': green,\n",
    "            'SWIR1': swir1,\n",
    "            'SWIR2': swir2,\n",
    "            'BLUE': blue\n",
    "        }\n",
    "    ).rename('SI')\n",
    "    ibi = image.expression(\n",
    "        '(2 * SWIR1 / (SWIR1 + NIR)) - ((NIR / (NIR + RED)) + (GREEN / (GREEN + SWIR1))) / (2 * SWIR1 / (SWIR1 + NIR)) + ((NIR / (NIR + RED)) + (GREEN / (GREEN + SWIR1)))',\n",
    "        {\n",
    "            'NIR': nir,\n",
    "            'RED': red,\n",
    "            'GREEN': green,\n",
    "            'SWIR1': swir1,\n",
    "            'SWIR2': swir2\n",
    "        }\n",
    "    ).rename('IBI')\n",
    "    ndbsi = image.expression(\n",
    "        '(IBI + SI) / 2',\n",
    "        {\n",
    "            'IBI': ibi,\n",
    "            'SI': si\n",
    "        }\n",
    "    ).rename('NDBSI')\n",
    "    return ndbsi\n",
    "\n",
    "# Function to calculate LST\n",
    "def calculate_lst5(image):\n",
    "    # Step 1: Calculate NDVI\n",
    "    ndvi = image.normalizedDifference(['B4', 'B3']).rename('NDVI')  # Landsat 5 NIR and Red\n",
    "\n",
    "    # Step 2: Calculate minimum and maximum NDVI in the AOI\n",
    "    ndviMin = ee.Number(ndvi.reduceRegion(\n",
    "        reducer=ee.Reducer.min(),\n",
    "        geometry=aoi,\n",
    "        scale=30,\n",
    "        maxPixels=1e9\n",
    "    ).values().get(0))\n",
    "\n",
    "    ndviMax = ee.Number(ndvi.reduceRegion(\n",
    "        reducer=ee.Reducer.max(),\n",
    "        geometry=aoi,\n",
    "        scale=30,\n",
    "        maxPixels=1e9\n",
    "    ).values().get(0))\n",
    "\n",
    "    # Step 3: Calculate Fractional Vegetation (FV)\n",
    "    fv = ndvi.subtract(ndviMin) \\\n",
    "             .divide(ndviMax.subtract(ndviMin)) \\\n",
    "             .pow(ee.Number(2)) \\\n",
    "             .rename('FV')\n",
    "\n",
    "    # Step 4: Calculate Emissivity (EM)\n",
    "    em = fv.multiply(ee.Number(0.004)).add(ee.Number(0.986)).rename('EM')\n",
    "\n",
    "    # Step 5: Select Thermal Band (Band 6 for Landsat 5)\n",
    "    thermal = image.select('B6').rename('thermal')\n",
    "\n",
    "    # Step 6: Calculate Land Surface Temperature (LST)\n",
    "    lst = thermal.expression(\n",
    "        '(TB / (1 + (0.00115 * (TB / 1.438)) * log(em))) - 273.15',\n",
    "        {\n",
    "            'TB': thermal.select('thermal'),  # Brightness temperature in Kelvin\n",
    "            'em': em  # Emissivity\n",
    "        }\n",
    "    ).rename('LST')\n",
    "    return lst"
   ]
  },
  {
   "cell_type": "code",
   "execution_count": 5,
   "id": "2ed04936-7cbc-4faa-9762-9b8ef916c94e",
   "metadata": {},
   "outputs": [
    {
     "data": {
      "text/html": [
       "\n",
       "            <style>\n",
       "                .geemap-dark {\n",
       "                    --jp-widgets-color: white;\n",
       "                    --jp-widgets-label-color: white;\n",
       "                    --jp-ui-font-color1: white;\n",
       "                    --jp-layout-color2: #454545;\n",
       "                    background-color: #383838;\n",
       "                }\n",
       "\n",
       "                .geemap-dark .jupyter-button {\n",
       "                    --jp-layout-color3: #383838;\n",
       "                }\n",
       "\n",
       "                .geemap-colab {\n",
       "                    background-color: var(--colab-primary-surface-color, white);\n",
       "                }\n",
       "\n",
       "                .geemap-colab .jupyter-button {\n",
       "                    --jp-layout-color3: var(--colab-primary-surface-color, white);\n",
       "                }\n",
       "            </style>\n",
       "            "
      ],
      "text/plain": [
       "<IPython.core.display.HTML object>"
      ]
     },
     "metadata": {},
     "output_type": "display_data"
    }
   ],
   "source": [
    "# Applies scaling factors.\n",
    "def apply_scale_factors(image):\n",
    "  optical_bands = image.select('SR_B.').multiply(0.0000275).add(-0.2)\n",
    "  thermal_bands = image.select('ST_B6').multiply(0.00341802).add(149.0)\n",
    "  return image.addBands(optical_bands, None, True).addBands(\n",
    "      thermal_bands, None, True\n",
    "  )"
   ]
  },
  {
   "cell_type": "markdown",
   "id": "980596cf-6d83-4eb7-a45b-63eae2b2e6c8",
   "metadata": {},
   "source": [
    "**Image Export**"
   ]
  },
  {
   "cell_type": "code",
   "execution_count": 7,
   "id": "ea0edebd-aebf-430d-88ac-a54c787047f2",
   "metadata": {},
   "outputs": [
    {
     "data": {
      "text/html": [
       "\n",
       "            <style>\n",
       "                .geemap-dark {\n",
       "                    --jp-widgets-color: white;\n",
       "                    --jp-widgets-label-color: white;\n",
       "                    --jp-ui-font-color1: white;\n",
       "                    --jp-layout-color2: #454545;\n",
       "                    background-color: #383838;\n",
       "                }\n",
       "\n",
       "                .geemap-dark .jupyter-button {\n",
       "                    --jp-layout-color3: #383838;\n",
       "                }\n",
       "\n",
       "                .geemap-colab {\n",
       "                    background-color: var(--colab-primary-surface-color, white);\n",
       "                }\n",
       "\n",
       "                .geemap-colab .jupyter-button {\n",
       "                    --jp-layout-color3: var(--colab-primary-surface-color, white);\n",
       "                }\n",
       "            </style>\n",
       "            "
      ],
      "text/plain": [
       "<IPython.core.display.HTML object>"
      ]
     },
     "metadata": {},
     "output_type": "display_data"
    }
   ],
   "source": [
    "def export_image(image, image_name):\n",
    "      # Create and start the export task\n",
    "        task = ee.batch.Export.image.toDrive(\n",
    "            image=image,\n",
    "            description=f\"{image_name}\",\n",
    "            folder=\"GEE_Exports\",\n",
    "            fileNamePrefix=image_name,\n",
    "            region=aoi,\n",
    "            fileFormat='GeoTIFF',\n",
    "            scale=30,\n",
    "            maxPixels=1e13\n",
    "        )\n",
    "        task.start()\n",
    "        print(f\"Export task for '{image_name}' started. Check Google Drive for output.\")"
   ]
  },
  {
   "cell_type": "markdown",
   "id": "8df69b2d-11fb-4486-bc32-facc535ec814",
   "metadata": {},
   "source": [
    "**Date Format for Google Earth Engine**"
   ]
  },
  {
   "cell_type": "code",
   "execution_count": 9,
   "id": "7e8c6ef7-aa31-46c4-afda-cfbdbea208fb",
   "metadata": {},
   "outputs": [
    {
     "data": {
      "text/html": [
       "\n",
       "            <style>\n",
       "                .geemap-dark {\n",
       "                    --jp-widgets-color: white;\n",
       "                    --jp-widgets-label-color: white;\n",
       "                    --jp-ui-font-color1: white;\n",
       "                    --jp-layout-color2: #454545;\n",
       "                    background-color: #383838;\n",
       "                }\n",
       "\n",
       "                .geemap-dark .jupyter-button {\n",
       "                    --jp-layout-color3: #383838;\n",
       "                }\n",
       "\n",
       "                .geemap-colab {\n",
       "                    background-color: var(--colab-primary-surface-color, white);\n",
       "                }\n",
       "\n",
       "                .geemap-colab .jupyter-button {\n",
       "                    --jp-layout-color3: var(--colab-primary-surface-color, white);\n",
       "                }\n",
       "            </style>\n",
       "            "
      ],
      "text/plain": [
       "<IPython.core.display.HTML object>"
      ]
     },
     "metadata": {},
     "output_type": "display_data"
    }
   ],
   "source": [
    "from datetime import datetime\n",
    "\n",
    "def convert_to_ymd(date_str):\n",
    "    # List of common date formats to try\n",
    "    date_formats = [\n",
    "        \"%Y-%m-%d\",     # 2025-01-04\n",
    "        \"%d-%m-%Y\",     # 04-01-2025\n",
    "        \"%m-%d-%Y\",     # 01-04-2025\n",
    "        \"%Y/%m/%d\",     # 2025/01/04\n",
    "        \"%d/%m/%Y\",     # 04/01/2025\n",
    "        \"%m/%d/%Y\",     # 01/04/2025\n",
    "        \"%d %b %Y\",     # 04 Jan 2025\n",
    "        \"%d %B %Y\",     # 04 January 2025\n",
    "        \"%b %d, %Y\",    # Jan 04, 2025\n",
    "        \"%B %d, %Y\"     # January 04, 2025\n",
    "    ]\n",
    "    \n",
    "    for fmt in date_formats:\n",
    "        try:\n",
    "            # Attempt to parse the date string with each format\n",
    "            parsed_date = datetime.strptime(date_str, fmt)\n",
    "            # Return the date in the desired format\n",
    "            return parsed_date.strftime(\"%Y-%m-%d\")\n",
    "        except ValueError:\n",
    "            continue  # Try the next format if parsing fails\n",
    "    \n",
    "    # If none of the formats match, return an error message\n",
    "    return \"Invalid date format\""
   ]
  },
  {
   "cell_type": "code",
   "execution_count": 11,
   "id": "42c2df3a-0ad6-446e-aa9e-4b4270f1125a",
   "metadata": {},
   "outputs": [
    {
     "data": {
      "text/html": [
       "\n",
       "            <style>\n",
       "                .geemap-dark {\n",
       "                    --jp-widgets-color: white;\n",
       "                    --jp-widgets-label-color: white;\n",
       "                    --jp-ui-font-color1: white;\n",
       "                    --jp-layout-color2: #454545;\n",
       "                    background-color: #383838;\n",
       "                }\n",
       "\n",
       "                .geemap-dark .jupyter-button {\n",
       "                    --jp-layout-color3: #383838;\n",
       "                }\n",
       "\n",
       "                .geemap-colab {\n",
       "                    background-color: var(--colab-primary-surface-color, white);\n",
       "                }\n",
       "\n",
       "                .geemap-colab .jupyter-button {\n",
       "                    --jp-layout-color3: var(--colab-primary-surface-color, white);\n",
       "                }\n",
       "            </style>\n",
       "            "
      ],
      "text/plain": [
       "<IPython.core.display.HTML object>"
      ]
     },
     "metadata": {},
     "output_type": "display_data"
    },
    {
     "name": "stdout",
     "output_type": "stream",
     "text": [
      "Type your Google Earth Engine Cloud Project ID\n"
     ]
    },
    {
     "name": "stdin",
     "output_type": "stream",
     "text": [
      " ee-jayantakurp17\n"
     ]
    }
   ],
   "source": [
    "print(\"Type your Google Earth Engine Cloud Project ID\")\n",
    "projectId = input()"
   ]
  },
  {
   "cell_type": "code",
   "execution_count": 13,
   "id": "779b45ba-0689-4956-a5b1-70cb79ecc8b1",
   "metadata": {},
   "outputs": [
    {
     "data": {
      "text/html": [
       "\n",
       "            <style>\n",
       "                .geemap-dark {\n",
       "                    --jp-widgets-color: white;\n",
       "                    --jp-widgets-label-color: white;\n",
       "                    --jp-ui-font-color1: white;\n",
       "                    --jp-layout-color2: #454545;\n",
       "                    background-color: #383838;\n",
       "                }\n",
       "\n",
       "                .geemap-dark .jupyter-button {\n",
       "                    --jp-layout-color3: #383838;\n",
       "                }\n",
       "\n",
       "                .geemap-colab {\n",
       "                    background-color: var(--colab-primary-surface-color, white);\n",
       "                }\n",
       "\n",
       "                .geemap-colab .jupyter-button {\n",
       "                    --jp-layout-color3: var(--colab-primary-surface-color, white);\n",
       "                }\n",
       "            </style>\n",
       "            "
      ],
      "text/plain": [
       "<IPython.core.display.HTML object>"
      ]
     },
     "metadata": {},
     "output_type": "display_data"
    },
    {
     "data": {
      "application/vnd.jupyter.widget-view+json": {
       "model_id": "c12565f371724832891786576025353c",
       "version_major": 2,
       "version_minor": 0
      },
      "text/plain": [
       "Map(center=[23.715081709283623, 90.08962659013804], controls=(WidgetControl(options=['position', 'transparent_…"
      ]
     },
     "execution_count": 13,
     "metadata": {},
     "output_type": "execute_result"
    }
   ],
   "source": [
    "ee.Authenticate()\n",
    "ee.Initialize(project=projectId)\n",
    "Map = geemap.Map(center=(23.715081709283623, 90.08962659013804), zoom=9)\n",
    "Map"
   ]
  },
  {
   "cell_type": "code",
   "execution_count": 17,
   "id": "c03ec27a-a070-4a62-8d7b-a5f5451ddc04",
   "metadata": {},
   "outputs": [
    {
     "data": {
      "text/html": [
       "\n",
       "            <style>\n",
       "                .geemap-dark {\n",
       "                    --jp-widgets-color: white;\n",
       "                    --jp-widgets-label-color: white;\n",
       "                    --jp-ui-font-color1: white;\n",
       "                    --jp-layout-color2: #454545;\n",
       "                    background-color: #383838;\n",
       "                }\n",
       "\n",
       "                .geemap-dark .jupyter-button {\n",
       "                    --jp-layout-color3: #383838;\n",
       "                }\n",
       "\n",
       "                .geemap-colab {\n",
       "                    background-color: var(--colab-primary-surface-color, white);\n",
       "                }\n",
       "\n",
       "                .geemap-colab .jupyter-button {\n",
       "                    --jp-layout-color3: var(--colab-primary-surface-color, white);\n",
       "                }\n",
       "            </style>\n",
       "            "
      ],
      "text/plain": [
       "<IPython.core.display.HTML object>"
      ]
     },
     "metadata": {},
     "output_type": "display_data"
    },
    {
     "name": "stdout",
     "output_type": "stream",
     "text": [
      "How you want to call your shapefile?\n",
      "1. Local Shapefile\n",
      "2. From Google Earth Engine\n",
      "3. From Last Drawing in the Map\n"
     ]
    },
    {
     "name": "stdin",
     "output_type": "stream",
     "text": [
      "Your Choice:  1\n",
      "Enter the path to the shapefile:  \"C:\\Users\\USER\\OneDrive - The University of Memphis\\Khulna University\\Mongla_EcologicalIndex\\Shapefile\\StudyArea.shp\"\n"
     ]
    }
   ],
   "source": [
    "print(\"How you want to call your shapefile?\")\n",
    "print(\"1. Local Shapefile\")\n",
    "print(\"2. From Google Earth Engine\")\n",
    "print(\"3. From Last Drawing in the Map\")\n",
    "cPath = int(input(\"Your Choice: \"))\n",
    "if cPath == 1:\n",
    "    filePath = input(r\"Enter the path to the shapefile: \").strip('\"')\n",
    "    gdf = gpd.read_file(filePath)\n",
    "    geojson_str = gdf.to_json()\n",
    "    geojson_dict = json.loads(geojson_str)\n",
    "    aoi = ee.FeatureCollection(geojson_dict).geometry()\n",
    "    Map.addLayer(aoi, {}, 'Area of Interest')\n",
    "elif cPath == 2:\n",
    "  filePath = input(\"Enter Google Earth Engine: \")\n",
    "  aoi = ee.FeatureCollection(filePath).geometry()\n",
    "  Map.addLayer(aoi, {}, 'Area of Interest')\n",
    "elif cPath == 3:\n",
    "  m = Map.draw_last_feature\n",
    "  aoi = ee.FeatureCollection(m).geometry()\n",
    "  Map.addLayer(aoi, {}, 'Area of Interest')\n",
    "else:\n",
    "    print(\"Invalid input\")"
   ]
  },
  {
   "cell_type": "code",
   "execution_count": 37,
   "id": "d9b4a452-a7f1-482d-ab7e-3b6701ab118c",
   "metadata": {},
   "outputs": [
    {
     "data": {
      "text/html": [
       "\n",
       "            <style>\n",
       "                .geemap-dark {\n",
       "                    --jp-widgets-color: white;\n",
       "                    --jp-widgets-label-color: white;\n",
       "                    --jp-ui-font-color1: white;\n",
       "                    --jp-layout-color2: #454545;\n",
       "                    background-color: #383838;\n",
       "                }\n",
       "\n",
       "                .geemap-dark .jupyter-button {\n",
       "                    --jp-layout-color3: #383838;\n",
       "                }\n",
       "\n",
       "                .geemap-colab {\n",
       "                    background-color: var(--colab-primary-surface-color, white);\n",
       "                }\n",
       "\n",
       "                .geemap-colab .jupyter-button {\n",
       "                    --jp-layout-color3: var(--colab-primary-surface-color, white);\n",
       "                }\n",
       "            </style>\n",
       "            "
      ],
      "text/plain": [
       "<IPython.core.display.HTML object>"
      ]
     },
     "metadata": {},
     "output_type": "display_data"
    },
    {
     "name": "stdin",
     "output_type": "stream",
     "text": [
      "Enter Start date:  1-1-2010\n",
      "Enter End date:  30-12-2010\n"
     ]
    }
   ],
   "source": [
    "startDate = input(\"Enter Start date: \")\n",
    "endDate = input(\"Enter End date: \")\n",
    "sDate = convert_to_ymd(startDate)\n",
    "eDate = convert_to_ymd(endDate)"
   ]
  },
  {
   "cell_type": "code",
   "execution_count": 21,
   "id": "7321a3f9-00a3-4aff-ad15-f2c4270b335f",
   "metadata": {},
   "outputs": [
    {
     "data": {
      "text/html": [
       "\n",
       "            <style>\n",
       "                .geemap-dark {\n",
       "                    --jp-widgets-color: white;\n",
       "                    --jp-widgets-label-color: white;\n",
       "                    --jp-ui-font-color1: white;\n",
       "                    --jp-layout-color2: #454545;\n",
       "                    background-color: #383838;\n",
       "                }\n",
       "\n",
       "                .geemap-dark .jupyter-button {\n",
       "                    --jp-layout-color3: #383838;\n",
       "                }\n",
       "\n",
       "                .geemap-colab {\n",
       "                    background-color: var(--colab-primary-surface-color, white);\n",
       "                }\n",
       "\n",
       "                .geemap-colab .jupyter-button {\n",
       "                    --jp-layout-color3: var(--colab-primary-surface-color, white);\n",
       "                }\n",
       "            </style>\n",
       "            "
      ],
      "text/plain": [
       "<IPython.core.display.HTML object>"
      ]
     },
     "metadata": {},
     "output_type": "display_data"
    },
    {
     "name": "stdin",
     "output_type": "stream",
     "text": [
      "Could Coverage:  5\n"
     ]
    }
   ],
   "source": [
    "cCover = float(input(\"Could Coverage: \"))"
   ]
  },
  {
   "cell_type": "code",
   "execution_count": 39,
   "id": "1cde6bd2-4648-4cf9-b613-5f83311b5d21",
   "metadata": {},
   "outputs": [
    {
     "data": {
      "text/html": [
       "\n",
       "            <style>\n",
       "                .geemap-dark {\n",
       "                    --jp-widgets-color: white;\n",
       "                    --jp-widgets-label-color: white;\n",
       "                    --jp-ui-font-color1: white;\n",
       "                    --jp-layout-color2: #454545;\n",
       "                    background-color: #383838;\n",
       "                }\n",
       "\n",
       "                .geemap-dark .jupyter-button {\n",
       "                    --jp-layout-color3: #383838;\n",
       "                }\n",
       "\n",
       "                .geemap-colab {\n",
       "                    background-color: var(--colab-primary-surface-color, white);\n",
       "                }\n",
       "\n",
       "                .geemap-colab .jupyter-button {\n",
       "                    --jp-layout-color3: var(--colab-primary-surface-color, white);\n",
       "                }\n",
       "            </style>\n",
       "            "
      ],
      "text/plain": [
       "<IPython.core.display.HTML object>"
      ]
     },
     "metadata": {},
     "output_type": "display_data"
    }
   ],
   "source": [
    "sImage = ee.ImageCollection('LANDSAT/LT05/C02/T1_L2') \\\n",
    "                        .filterBounds(aoi) \\\n",
    "                        .filterDate(sDate, eDate) \\\n",
    "                        .filterMetadata('CLOUD_COVER', 'less_than', cCover)\n",
    "sImage5 = sImage.median().clip(aoi)\n",
    "sImage5 = apply_scale_factors(sImage5)\n",
    "Map.addLayer(sImage5, {'bands': ['SR_B3', 'SR_B3', 'SR_B1'], 'min': 0, 'max': 0.3}, 'Landsat-5 Image')"
   ]
  },
  {
   "cell_type": "code",
   "execution_count": 40,
   "id": "e3107b95-9ce7-4ee3-94a4-6c40f2aa958d",
   "metadata": {},
   "outputs": [
    {
     "data": {
      "text/html": [
       "\n",
       "            <style>\n",
       "                .geemap-dark {\n",
       "                    --jp-widgets-color: white;\n",
       "                    --jp-widgets-label-color: white;\n",
       "                    --jp-ui-font-color1: white;\n",
       "                    --jp-layout-color2: #454545;\n",
       "                    background-color: #383838;\n",
       "                }\n",
       "\n",
       "                .geemap-dark .jupyter-button {\n",
       "                    --jp-layout-color3: #383838;\n",
       "                }\n",
       "\n",
       "                .geemap-colab {\n",
       "                    background-color: var(--colab-primary-surface-color, white);\n",
       "                }\n",
       "\n",
       "                .geemap-colab .jupyter-button {\n",
       "                    --jp-layout-color3: var(--colab-primary-surface-color, white);\n",
       "                }\n",
       "            </style>\n",
       "            "
      ],
      "text/plain": [
       "<IPython.core.display.HTML object>"
      ]
     },
     "metadata": {},
     "output_type": "display_data"
    }
   ],
   "source": [
    "thImage = ee.ImageCollection('LANDSAT/LT05/C02/T1_TOA') \\\n",
    "                        .filterBounds(aoi) \\\n",
    "                        .filterDate(sDate, eDate) \\\n",
    "                        .filterMetadata('CLOUD_COVER', 'less_than', cCover)\n",
    "thImage5 = thImage.median().clip(aoi)\n",
    "Map.addLayer(thImage5, {'bands': ['B3', 'B3', 'B1'], 'min': 0, 'max': 0.3}, 'Landsat-5 thImage')"
   ]
  },
  {
   "cell_type": "code",
   "execution_count": 41,
   "id": "5737ae83-5cd6-4cc6-a4a6-8e59463f8c95",
   "metadata": {},
   "outputs": [
    {
     "data": {
      "text/html": [
       "\n",
       "            <style>\n",
       "                .geemap-dark {\n",
       "                    --jp-widgets-color: white;\n",
       "                    --jp-widgets-label-color: white;\n",
       "                    --jp-ui-font-color1: white;\n",
       "                    --jp-layout-color2: #454545;\n",
       "                    background-color: #383838;\n",
       "                }\n",
       "\n",
       "                .geemap-dark .jupyter-button {\n",
       "                    --jp-layout-color3: #383838;\n",
       "                }\n",
       "\n",
       "                .geemap-colab {\n",
       "                    background-color: var(--colab-primary-surface-color, white);\n",
       "                }\n",
       "\n",
       "                .geemap-colab .jupyter-button {\n",
       "                    --jp-layout-color3: var(--colab-primary-surface-color, white);\n",
       "                }\n",
       "            </style>\n",
       "            "
      ],
      "text/plain": [
       "<IPython.core.display.HTML object>"
      ]
     },
     "metadata": {},
     "output_type": "display_data"
    },
    {
     "name": "stdout",
     "output_type": "stream",
     "text": [
      "Export task for 'ndvi_00' started. Check Google Drive for output.\n",
      "Export task for 'wetness_00' started. Check Google Drive for output.\n",
      "Export task for 'ndbsi_00' started. Check Google Drive for output.\n",
      "Export task for 'lst_00' started. Check Google Drive for output.\n"
     ]
    }
   ],
   "source": [
    "ndvi = calculate_ndvi5(sImage5)\n",
    "wetness = calculate_wet5(sImage5)\n",
    "ndbsi = calculate_ndbsi5(thImage5)\n",
    "lst = calculate_lst5(thImage5)\n",
    "mndwi = calculate_mndwi5(sImage5)\n",
    "export_image(ndvi, \"ndvi_00\")\n",
    "export_image(wetness, \"wetness_00\")\n",
    "export_image(ndbsi, \"ndbsi_00\")\n",
    "export_image(lst, \"lst_00\")\n",
    "export_image(mndwi, \"mndwi_10\")"
   ]
  },
  {
   "cell_type": "code",
   "execution_count": 43,
   "id": "0b3a0473-a0fe-4899-be5a-c2258625de04",
   "metadata": {},
   "outputs": [
    {
     "data": {
      "text/html": [
       "\n",
       "            <style>\n",
       "                .geemap-dark {\n",
       "                    --jp-widgets-color: white;\n",
       "                    --jp-widgets-label-color: white;\n",
       "                    --jp-ui-font-color1: white;\n",
       "                    --jp-layout-color2: #454545;\n",
       "                    background-color: #383838;\n",
       "                }\n",
       "\n",
       "                .geemap-dark .jupyter-button {\n",
       "                    --jp-layout-color3: #383838;\n",
       "                }\n",
       "\n",
       "                .geemap-colab {\n",
       "                    background-color: var(--colab-primary-surface-color, white);\n",
       "                }\n",
       "\n",
       "                .geemap-colab .jupyter-button {\n",
       "                    --jp-layout-color3: var(--colab-primary-surface-color, white);\n",
       "                }\n",
       "            </style>\n",
       "            "
      ],
      "text/plain": [
       "<IPython.core.display.HTML object>"
      ]
     },
     "metadata": {},
     "output_type": "display_data"
    },
    {
     "name": "stdout",
     "output_type": "stream",
     "text": [
      "Export task for 'ndsi_10' started. Check Google Drive for output.\n"
     ]
    }
   ],
   "source": [
    "ndsi = calculate_ndsi5(sImage5)\n",
    "export_image(ndsi, \"ndsi_10\")"
   ]
  },
  {
   "cell_type": "code",
   "execution_count": null,
   "id": "76e1a0f4-3df6-4a64-8b8c-06bc62af4ba9",
   "metadata": {},
   "outputs": [],
   "source": []
  }
 ],
 "metadata": {
  "kernelspec": {
   "display_name": "Python [conda env:conda-geo] *",
   "language": "python",
   "name": "conda-env-conda-geo-py"
  },
  "language_info": {
   "codemirror_mode": {
    "name": "ipython",
    "version": 3
   },
   "file_extension": ".py",
   "mimetype": "text/x-python",
   "name": "python",
   "nbconvert_exporter": "python",
   "pygments_lexer": "ipython3",
   "version": "3.11.10"
  }
 },
 "nbformat": 4,
 "nbformat_minor": 5
}
