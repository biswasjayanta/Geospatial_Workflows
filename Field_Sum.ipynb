{
 "cells": [
  {
   "cell_type": "code",
   "execution_count": 148,
   "metadata": {},
   "outputs": [],
   "source": [
    "import arcpy\n",
    "import os"
   ]
  },
  {
   "cell_type": "code",
   "execution_count": 150,
   "metadata": {},
   "outputs": [],
   "source": [
    "arcpy.env.workspace=(r\"C:\\Users\\USER\\OneDrive - The University of Memphis\\TDOT_project\\TDOT_Jayanta\\TestAnalysis\\Shapefiles\\ComparisonSites_Emp\")"
   ]
  },
  {
   "cell_type": "code",
   "execution_count": 152,
   "metadata": {},
   "outputs": [
    {
     "data": {
      "text/plain": [
       "['points_2002.shp',\n",
       " 'points_2003.shp',\n",
       " 'points_2004.shp',\n",
       " 'points_2005.shp',\n",
       " 'points_2006.shp',\n",
       " 'points_2007.shp',\n",
       " 'points_2008.shp',\n",
       " 'points_2009.shp',\n",
       " 'points_2010.shp',\n",
       " 'points_2011.shp',\n",
       " 'points_2012.shp',\n",
       " 'points_2013.shp',\n",
       " 'points_2014.shp',\n",
       " 'points_2015.shp',\n",
       " 'points_2016.shp',\n",
       " 'points_2017.shp',\n",
       " 'points_2018.shp',\n",
       " 'points_2019.shp',\n",
       " 'points_2020.shp',\n",
       " 'points_2021.shp',\n",
       " 'points_2022.shp',\n",
       " 'selection.shp']"
      ]
     },
     "execution_count": 152,
     "metadata": {},
     "output_type": "execute_result"
    }
   ],
   "source": [
    "fc_list = arcpy.ListFeatureClasses()\n",
    "fc_list"
   ]
  },
  {
   "cell_type": "code",
   "execution_count": 154,
   "metadata": {},
   "outputs": [
    {
     "data": {
      "text/plain": [
       "['points_2002.shp',\n",
       " 'points_2003.shp',\n",
       " 'points_2004.shp',\n",
       " 'points_2005.shp',\n",
       " 'points_2006.shp',\n",
       " 'points_2007.shp',\n",
       " 'points_2008.shp',\n",
       " 'points_2009.shp',\n",
       " 'points_2010.shp',\n",
       " 'points_2011.shp',\n",
       " 'points_2012.shp',\n",
       " 'points_2013.shp',\n",
       " 'points_2014.shp',\n",
       " 'points_2015.shp',\n",
       " 'points_2016.shp',\n",
       " 'points_2017.shp',\n",
       " 'points_2018.shp',\n",
       " 'points_2019.shp',\n",
       " 'points_2020.shp',\n",
       " 'points_2021.shp',\n",
       " 'points_2022.shp']"
      ]
     },
     "execution_count": 154,
     "metadata": {},
     "output_type": "execute_result"
    }
   ],
   "source": [
    "fc_list.remove('selection.shp')\n",
    "fc_list"
   ]
  },
  {
   "cell_type": "code",
   "execution_count": 156,
   "metadata": {},
   "outputs": [],
   "source": [
    "# Set local variables\n",
    "fieldName1 = \"BlockEmp\"\n",
    "fieldPrecision = 9\n",
    "fieldAlias = \"Block Employment\"\n",
    "fieldLength = 10"
   ]
  },
  {
   "cell_type": "code",
   "execution_count": 158,
   "metadata": {},
   "outputs": [],
   "source": [
    "for fc in fc_list:\n",
    "    arcpy.management.AddField(fc, fieldName1, \"LONG\", fieldPrecision,\n",
    "                          field_alias=fieldAlias, field_is_nullable=\"NULLABLE\")"
   ]
  },
  {
   "cell_type": "code",
   "execution_count": 160,
   "metadata": {},
   "outputs": [],
   "source": [
    "featureclass = \"points_2002.shp\""
   ]
  },
  {
   "cell_type": "code",
   "execution_count": 162,
   "metadata": {},
   "outputs": [
    {
     "data": {
      "text/plain": [
       "['c000',\n",
       " 'ca01',\n",
       " 'ca02',\n",
       " 'ca03',\n",
       " 'ce01',\n",
       " 'ce02',\n",
       " 'ce03',\n",
       " 'cns01',\n",
       " 'cns02',\n",
       " 'cns03',\n",
       " 'cns04',\n",
       " 'cns05',\n",
       " 'cns06',\n",
       " 'cns07',\n",
       " 'cns08',\n",
       " 'cns09',\n",
       " 'cns10',\n",
       " 'cns11',\n",
       " 'cns12',\n",
       " 'cns13',\n",
       " 'cns14',\n",
       " 'cns15',\n",
       " 'cns16',\n",
       " 'cns17',\n",
       " 'cns18',\n",
       " 'cns19',\n",
       " 'cns20']"
      ]
     },
     "execution_count": 162,
     "metadata": {},
     "output_type": "execute_result"
    }
   ],
   "source": [
    "field_names = [f.name for f in arcpy.ListFields(featureclass,\"c*\")]\n",
    "field_names"
   ]
  },
  {
   "cell_type": "code",
   "execution_count": 164,
   "metadata": {},
   "outputs": [],
   "source": [
    "# Define the path to your shapefile\n",
    "shapefile_path = \"points_2002.shp\""
   ]
  },
  {
   "cell_type": "code",
   "execution_count": 166,
   "metadata": {},
   "outputs": [],
   "source": [
    "def field_sum(file):\n",
    "# Get a list of fields in the shapefile\n",
    "    fields = arcpy.ListFields(file)\n",
    "    # Identify fields that start with 'C' and have a numeric type\n",
    "    fields_to_sum = [f.name for f in arcpy.ListFields(file,\"c*\")]\n",
    "    # Add a new field to store the sum (if not already added)\n",
    "    new_field = \"BlockEmp\"\n",
    "    if new_field not in [field.name for field in fields]:\n",
    "        arcpy.AddField_management(shapefile_path, new_field, \"DOUBLE\")\n",
    "    # Use an UpdateCursor to calculate the sum for each row\n",
    "    with arcpy.da.UpdateCursor(shapefile_path, fields_to_sum + [new_field]) as cursor:\n",
    "        for row in cursor:\n",
    "            row_sum = sum([row[i] for i in range(len(fields_to_sum)) if row[i] is not None])\n",
    "            row[-1] = row_sum  # Store the sum in the new field\n",
    "            cursor.updateRow(row)\n",
    "    \n",
    "    print(\"Sum of columns starting with 'C' has been calculated and stored in the field:\", new_field)"
   ]
  },
  {
   "cell_type": "code",
   "execution_count": 168,
   "metadata": {},
   "outputs": [],
   "source": [
    "def field_sum(file):\n",
    "    # Get a list of fields in the shapefile\n",
    "    fields = arcpy.ListFields(file)\n",
    "    \n",
    "    # Identify fields that start with 'C' (case-insensitive)\n",
    "    fields_to_sum = [f.name for f in fields if f.name.lower().startswith('c')]\n",
    "    \n",
    "    print(\"Fields to sum:\", fields_to_sum)  # Debugging: Print the list of fields\n",
    "\n",
    "    # Add a new field to store the sum (if not already added)\n",
    "    new_field = \"BlockEmp\"\n",
    "    if new_field not in [field.name for field in fields]:\n",
    "        arcpy.AddField_management(file, new_field, \"DOUBLE\")\n",
    "\n",
    "    # Use an UpdateCursor to calculate the sum for each row\n",
    "    with arcpy.da.UpdateCursor(file, fields_to_sum + [new_field]) as cursor:\n",
    "        for row in cursor:\n",
    "            row_sum = sum([row[i] for i in range(len(fields_to_sum)) if row[i] is not None])\n",
    "            row[-1] = row_sum  # Store the sum in the new field\n",
    "            cursor.updateRow(row)\n",
    "\n",
    "    print(\"Sum of columns starting with 'C' has been calculated and stored in the field:\", new_field)\n"
   ]
  },
  {
   "cell_type": "code",
   "execution_count": 170,
   "metadata": {},
   "outputs": [
    {
     "name": "stdout",
     "output_type": "stream",
     "text": [
      "Fields to sum: ['c000', 'ca01', 'ca02', 'ca03', 'ce01', 'ce02', 'ce03', 'cns01', 'cns02', 'cns03', 'cns04', 'cns05', 'cns06', 'cns07', 'cns08', 'cns09', 'cns10', 'cns11', 'cns12', 'cns13', 'cns14', 'cns15', 'cns16', 'cns17', 'cns18', 'cns19', 'cns20']\n",
      "Sum of columns starting with 'C' has been calculated and stored in the field: BlockEmp\n",
      "Fields to sum: ['c000', 'ca01', 'ca02', 'ca03', 'ce01', 'ce02', 'ce03', 'cns01', 'cns02', 'cns03', 'cns04', 'cns05', 'cns06', 'cns07', 'cns08', 'cns09', 'cns10', 'cns11', 'cns12', 'cns13', 'cns14', 'cns15', 'cns16', 'cns17', 'cns18', 'cns19', 'cns20']\n",
      "Sum of columns starting with 'C' has been calculated and stored in the field: BlockEmp\n",
      "Fields to sum: ['c000', 'ca01', 'ca02', 'ca03', 'ce01', 'ce02', 'ce03', 'cns01', 'cns02', 'cns03', 'cns04', 'cns05', 'cns06', 'cns07', 'cns08', 'cns09', 'cns10', 'cns11', 'cns12', 'cns13', 'cns14', 'cns15', 'cns16', 'cns17', 'cns18', 'cns19', 'cns20']\n",
      "Sum of columns starting with 'C' has been calculated and stored in the field: BlockEmp\n",
      "Fields to sum: ['c000', 'ca01', 'ca02', 'ca03', 'ce01', 'ce02', 'ce03', 'cns01', 'cns02', 'cns03', 'cns04', 'cns05', 'cns06', 'cns07', 'cns08', 'cns09', 'cns10', 'cns11', 'cns12', 'cns13', 'cns14', 'cns15', 'cns16', 'cns17', 'cns18', 'cns19', 'cns20']\n",
      "Sum of columns starting with 'C' has been calculated and stored in the field: BlockEmp\n",
      "Fields to sum: ['c000', 'ca01', 'ca02', 'ca03', 'ce01', 'ce02', 'ce03', 'cns01', 'cns02', 'cns03', 'cns04', 'cns05', 'cns06', 'cns07', 'cns08', 'cns09', 'cns10', 'cns11', 'cns12', 'cns13', 'cns14', 'cns15', 'cns16', 'cns17', 'cns18', 'cns19', 'cns20']\n",
      "Sum of columns starting with 'C' has been calculated and stored in the field: BlockEmp\n",
      "Fields to sum: ['c000', 'ca01', 'ca02', 'ca03', 'ce01', 'ce02', 'ce03', 'cns01', 'cns02', 'cns03', 'cns04', 'cns05', 'cns06', 'cns07', 'cns08', 'cns09', 'cns10', 'cns11', 'cns12', 'cns13', 'cns14', 'cns15', 'cns16', 'cns17', 'cns18', 'cns19', 'cns20']\n",
      "Sum of columns starting with 'C' has been calculated and stored in the field: BlockEmp\n",
      "Fields to sum: ['c000', 'ca01', 'ca02', 'ca03', 'ce01', 'ce02', 'ce03', 'cns01', 'cns02', 'cns03', 'cns04', 'cns05', 'cns06', 'cns07', 'cns08', 'cns09', 'cns10', 'cns11', 'cns12', 'cns13', 'cns14', 'cns15', 'cns16', 'cns17', 'cns18', 'cns19', 'cns20']\n",
      "Sum of columns starting with 'C' has been calculated and stored in the field: BlockEmp\n",
      "Fields to sum: ['c000', 'ca01', 'ca02', 'ca03', 'ce01', 'ce02', 'ce03', 'cns01', 'cns02', 'cns03', 'cns04', 'cns05', 'cns06', 'cns07', 'cns08', 'cns09', 'cns10', 'cns11', 'cns12', 'cns13', 'cns14', 'cns15', 'cns16', 'cns17', 'cns18', 'cns19', 'cns20', 'cr01', 'cr02', 'cr03', 'cr04', 'cr05', 'cr07', 'ct01', 'ct02', 'cd01', 'cd02', 'cd03', 'cd04', 'cg01', 'cg02']\n",
      "Sum of columns starting with 'C' has been calculated and stored in the field: BlockEmp\n",
      "Fields to sum: ['c000', 'ca01', 'ca02', 'ca03', 'ce01', 'ce02', 'ce03', 'cns01', 'cns02', 'cns03', 'cns04', 'cns05', 'cns06', 'cns07', 'cns08', 'cns09', 'cns10', 'cns11', 'cns12', 'cns13', 'cns14', 'cns15', 'cns16', 'cns17', 'cns18', 'cns19', 'cns20', 'cr01', 'cr02', 'cr03', 'cr04', 'cr05', 'cr07', 'ct01', 'ct02', 'cd01', 'cd02', 'cd03', 'cd04', 'cg01', 'cg02']\n",
      "Sum of columns starting with 'C' has been calculated and stored in the field: BlockEmp\n",
      "Fields to sum: ['c000', 'ca01', 'ca02', 'ca03', 'ce01', 'ce02', 'ce03', 'cns01', 'cns02', 'cns03', 'cns04', 'cns05', 'cns06', 'cns07', 'cns08', 'cns09', 'cns10', 'cns11', 'cns12', 'cns13', 'cns14', 'cns15', 'cns16', 'cns17', 'cns18', 'cns19', 'cns20', 'cr01', 'cr02', 'cr03', 'cr04', 'cr05', 'cr07', 'ct01', 'ct02', 'cd01', 'cd02', 'cd03', 'cd04', 'cg01', 'cg02']\n",
      "Sum of columns starting with 'C' has been calculated and stored in the field: BlockEmp\n",
      "Fields to sum: ['c000', 'ca01', 'ca02', 'ca03', 'ce01', 'ce02', 'ce03', 'cns01', 'cns02', 'cns03', 'cns04', 'cns05', 'cns06', 'cns07', 'cns08', 'cns09', 'cns10', 'cns11', 'cns12', 'cns13', 'cns14', 'cns15', 'cns16', 'cns17', 'cns18', 'cns19', 'cns20', 'cr01', 'cr02', 'cr03', 'cr04', 'cr05', 'cr07', 'ct01', 'ct02', 'cd01', 'cd02', 'cd03', 'cd04', 'cg01', 'cg02']\n",
      "Sum of columns starting with 'C' has been calculated and stored in the field: BlockEmp\n",
      "Fields to sum: ['c000', 'ca01', 'ca02', 'ca03', 'ce01', 'ce02', 'ce03', 'cns01', 'cns02', 'cns03', 'cns04', 'cns05', 'cns06', 'cns07', 'cns08', 'cns09', 'cns10', 'cns11', 'cns12', 'cns13', 'cns14', 'cns15', 'cns16', 'cns17', 'cns18', 'cns19', 'cns20', 'cr01', 'cr02', 'cr03', 'cr04', 'cr05', 'cr07', 'ct01', 'ct02', 'cd01', 'cd02', 'cd03', 'cd04', 'cg01', 'cg02']\n",
      "Sum of columns starting with 'C' has been calculated and stored in the field: BlockEmp\n",
      "Fields to sum: ['c000', 'ca01', 'ca02', 'ca03', 'ce01', 'ce02', 'ce03', 'cns01', 'cns02', 'cns03', 'cns04', 'cns05', 'cns06', 'cns07', 'cns08', 'cns09', 'cns10', 'cns11', 'cns12', 'cns13', 'cns14', 'cns15', 'cns16', 'cns17', 'cns18', 'cns19', 'cns20', 'cr01', 'cr02', 'cr03', 'cr04', 'cr05', 'cr07', 'ct01', 'ct02', 'cd01', 'cd02', 'cd03', 'cd04', 'cg01', 'cg02']\n",
      "Sum of columns starting with 'C' has been calculated and stored in the field: BlockEmp\n",
      "Fields to sum: ['c000', 'ca01', 'ca02', 'ca03', 'ce01', 'ce02', 'ce03', 'cns01', 'cns02', 'cns03', 'cns04', 'cns05', 'cns06', 'cns07', 'cns08', 'cns09', 'cns10', 'cns11', 'cns12', 'cns13', 'cns14', 'cns15', 'cns16', 'cns17', 'cns18', 'cns19', 'cns20', 'cr01', 'cr02', 'cr03', 'cr04', 'cr05', 'cr07', 'ct01', 'ct02', 'cd01', 'cd02', 'cd03', 'cd04', 'cg01', 'cg02']\n",
      "Sum of columns starting with 'C' has been calculated and stored in the field: BlockEmp\n",
      "Fields to sum: ['c000', 'ca01', 'ca02', 'ca03', 'ce01', 'ce02', 'ce03', 'cns01', 'cns02', 'cns03', 'cns04', 'cns05', 'cns06', 'cns07', 'cns08', 'cns09', 'cns10', 'cns11', 'cns12', 'cns13', 'cns14', 'cns15', 'cns16', 'cns17', 'cns18', 'cns19', 'cns20', 'cr01', 'cr02', 'cr03', 'cr04', 'cr05', 'cr07', 'ct01', 'ct02', 'cd01', 'cd02', 'cd03', 'cd04', 'cg01', 'cg02']\n",
      "Sum of columns starting with 'C' has been calculated and stored in the field: BlockEmp\n",
      "Fields to sum: ['c000', 'ca01', 'ca02', 'ca03', 'ce01', 'ce02', 'ce03', 'cns01', 'cns02', 'cns03', 'cns04', 'cns05', 'cns06', 'cns07', 'cns08', 'cns09', 'cns10', 'cns11', 'cns12', 'cns13', 'cns14', 'cns15', 'cns16', 'cns17', 'cns18', 'cns19', 'cns20', 'cr01', 'cr02', 'cr03', 'cr04', 'cr05', 'cr07', 'ct01', 'ct02', 'cd01', 'cd02', 'cd03', 'cd04', 'cg01', 'cg02']\n",
      "Sum of columns starting with 'C' has been calculated and stored in the field: BlockEmp\n",
      "Fields to sum: ['c000', 'ca01', 'ca02', 'ca03', 'ce01', 'ce02', 'ce03', 'cns01', 'cns02', 'cns03', 'cns04', 'cns05', 'cns06', 'cns07', 'cns08', 'cns09', 'cns10', 'cns11', 'cns12', 'cns13', 'cns14', 'cns15', 'cns16', 'cns17', 'cns18', 'cns19', 'cns20', 'cr01', 'cr02', 'cr03', 'cr04', 'cr05', 'cr07', 'ct01', 'ct02', 'cd01', 'cd02', 'cd03', 'cd04', 'cg01', 'cg02']\n",
      "Sum of columns starting with 'C' has been calculated and stored in the field: BlockEmp\n",
      "Fields to sum: ['c000', 'ca01', 'ca02', 'ca03', 'ce01', 'ce02', 'ce03', 'cns01', 'cns02', 'cns03', 'cns04', 'cns05', 'cns06', 'cns07', 'cns08', 'cns09', 'cns10', 'cns11', 'cns12', 'cns13', 'cns14', 'cns15', 'cns16', 'cns17', 'cns18', 'cns19', 'cns20', 'cr01', 'cr02', 'cr03', 'cr04', 'cr05', 'cr07', 'ct01', 'ct02', 'cd01', 'cd02', 'cd03', 'cd04', 'cg01', 'cg02']\n",
      "Sum of columns starting with 'C' has been calculated and stored in the field: BlockEmp\n",
      "Fields to sum: ['c000', 'ca01', 'ca02', 'ca03', 'ce01', 'ce02', 'ce03', 'cns01', 'cns02', 'cns03', 'cns04', 'cns05', 'cns06', 'cns07', 'cns08', 'cns09', 'cns10', 'cns11', 'cns12', 'cns13', 'cns14', 'cns15', 'cns16', 'cns17', 'cns18', 'cns19', 'cns20', 'cr01', 'cr02', 'cr03', 'cr04', 'cr05', 'cr07', 'ct01', 'ct02', 'cd01', 'cd02', 'cd03', 'cd04', 'cg01', 'cg02']\n",
      "Sum of columns starting with 'C' has been calculated and stored in the field: BlockEmp\n",
      "Fields to sum: ['c000', 'ca01', 'ca02', 'ca03', 'ce01', 'ce02', 'ce03', 'cns01', 'cns02', 'cns03', 'cns04', 'cns05', 'cns06', 'cns07', 'cns08', 'cns09', 'cns10', 'cns11', 'cns12', 'cns13', 'cns14', 'cns15', 'cns16', 'cns17', 'cns18', 'cns19', 'cns20', 'cr01', 'cr02', 'cr03', 'cr04', 'cr05', 'cr07', 'ct01', 'ct02', 'cd01', 'cd02', 'cd03', 'cd04', 'cg01', 'cg02']\n",
      "Sum of columns starting with 'C' has been calculated and stored in the field: BlockEmp\n",
      "Fields to sum: ['c000', 'ca01', 'ca02', 'ca03', 'ce01', 'ce02', 'ce03', 'cns01', 'cns02', 'cns03', 'cns04', 'cns05', 'cns06', 'cns07', 'cns08', 'cns09', 'cns10', 'cns11', 'cns12', 'cns13', 'cns14', 'cns15', 'cns16', 'cns17', 'cns18', 'cns19', 'cns20', 'cr01', 'cr02', 'cr03', 'cr04', 'cr05', 'cr07', 'ct01', 'ct02', 'cd01', 'cd02', 'cd03', 'cd04', 'cg01', 'cg02']\n",
      "Sum of columns starting with 'C' has been calculated and stored in the field: BlockEmp\n"
     ]
    }
   ],
   "source": [
    "for fc in fc_list:\n",
    "    field_sum(fc)"
   ]
  },
  {
   "cell_type": "code",
   "execution_count": 172,
   "metadata": {},
   "outputs": [],
   "source": [
    "join_features = r\"C:\\Users\\USER\\OneDrive - The University of Memphis\\TDOT_project\\TDOT\\TDOT.gdb\\NComparisonSites_Merg_Buffer\"\n",
    "output_folder = r\"C:\\Users\\USER\\OneDrive - The University of Memphis\\TDOT_project\\TDOT_Jayanta\\TestAnalysis\\Shapefiles\\ComparisonSites_Emp\""
   ]
  },
  {
   "cell_type": "code",
   "execution_count": 174,
   "metadata": {},
   "outputs": [],
   "source": [
    "join_operation = \"JOIN_ONE_TO_ONE\"\n",
    "join_type = \"KEEP_ALL\"\n",
    "match_option = \"INTERSECT\""
   ]
  },
  {
   "cell_type": "code",
   "execution_count": 176,
   "metadata": {},
   "outputs": [
    {
     "name": "stdout",
     "output_type": "stream",
     "text": [
      "Spatial join completed for points_2002 -> Output: C:\\Users\\USER\\OneDrive - The University of Memphis\\TDOT_project\\TDOT_Jayanta\\TestAnalysis\\Shapefiles\\ComparisonSites_Emp\\points_2002_Joined.shp\n",
      "Exported joined features to CSV: C:\\Users\\USER\\OneDrive - The University of Memphis\\TDOT_project\\TDOT_Jayanta\\TestAnalysis\\Shapefiles\\ComparisonSites_Emp\\points_2002_Joined.csv\n",
      "Spatial join completed for points_2003 -> Output: C:\\Users\\USER\\OneDrive - The University of Memphis\\TDOT_project\\TDOT_Jayanta\\TestAnalysis\\Shapefiles\\ComparisonSites_Emp\\points_2003_Joined.shp\n",
      "Exported joined features to CSV: C:\\Users\\USER\\OneDrive - The University of Memphis\\TDOT_project\\TDOT_Jayanta\\TestAnalysis\\Shapefiles\\ComparisonSites_Emp\\points_2003_Joined.csv\n",
      "Spatial join completed for points_2004 -> Output: C:\\Users\\USER\\OneDrive - The University of Memphis\\TDOT_project\\TDOT_Jayanta\\TestAnalysis\\Shapefiles\\ComparisonSites_Emp\\points_2004_Joined.shp\n",
      "Exported joined features to CSV: C:\\Users\\USER\\OneDrive - The University of Memphis\\TDOT_project\\TDOT_Jayanta\\TestAnalysis\\Shapefiles\\ComparisonSites_Emp\\points_2004_Joined.csv\n",
      "Spatial join completed for points_2005 -> Output: C:\\Users\\USER\\OneDrive - The University of Memphis\\TDOT_project\\TDOT_Jayanta\\TestAnalysis\\Shapefiles\\ComparisonSites_Emp\\points_2005_Joined.shp\n",
      "Exported joined features to CSV: C:\\Users\\USER\\OneDrive - The University of Memphis\\TDOT_project\\TDOT_Jayanta\\TestAnalysis\\Shapefiles\\ComparisonSites_Emp\\points_2005_Joined.csv\n",
      "Spatial join completed for points_2006 -> Output: C:\\Users\\USER\\OneDrive - The University of Memphis\\TDOT_project\\TDOT_Jayanta\\TestAnalysis\\Shapefiles\\ComparisonSites_Emp\\points_2006_Joined.shp\n",
      "Exported joined features to CSV: C:\\Users\\USER\\OneDrive - The University of Memphis\\TDOT_project\\TDOT_Jayanta\\TestAnalysis\\Shapefiles\\ComparisonSites_Emp\\points_2006_Joined.csv\n",
      "Spatial join completed for points_2007 -> Output: C:\\Users\\USER\\OneDrive - The University of Memphis\\TDOT_project\\TDOT_Jayanta\\TestAnalysis\\Shapefiles\\ComparisonSites_Emp\\points_2007_Joined.shp\n",
      "Exported joined features to CSV: C:\\Users\\USER\\OneDrive - The University of Memphis\\TDOT_project\\TDOT_Jayanta\\TestAnalysis\\Shapefiles\\ComparisonSites_Emp\\points_2007_Joined.csv\n",
      "Spatial join completed for points_2008 -> Output: C:\\Users\\USER\\OneDrive - The University of Memphis\\TDOT_project\\TDOT_Jayanta\\TestAnalysis\\Shapefiles\\ComparisonSites_Emp\\points_2008_Joined.shp\n",
      "Exported joined features to CSV: C:\\Users\\USER\\OneDrive - The University of Memphis\\TDOT_project\\TDOT_Jayanta\\TestAnalysis\\Shapefiles\\ComparisonSites_Emp\\points_2008_Joined.csv\n",
      "Spatial join completed for points_2009 -> Output: C:\\Users\\USER\\OneDrive - The University of Memphis\\TDOT_project\\TDOT_Jayanta\\TestAnalysis\\Shapefiles\\ComparisonSites_Emp\\points_2009_Joined.shp\n",
      "Exported joined features to CSV: C:\\Users\\USER\\OneDrive - The University of Memphis\\TDOT_project\\TDOT_Jayanta\\TestAnalysis\\Shapefiles\\ComparisonSites_Emp\\points_2009_Joined.csv\n",
      "Spatial join completed for points_2010 -> Output: C:\\Users\\USER\\OneDrive - The University of Memphis\\TDOT_project\\TDOT_Jayanta\\TestAnalysis\\Shapefiles\\ComparisonSites_Emp\\points_2010_Joined.shp\n",
      "Exported joined features to CSV: C:\\Users\\USER\\OneDrive - The University of Memphis\\TDOT_project\\TDOT_Jayanta\\TestAnalysis\\Shapefiles\\ComparisonSites_Emp\\points_2010_Joined.csv\n",
      "Spatial join completed for points_2011 -> Output: C:\\Users\\USER\\OneDrive - The University of Memphis\\TDOT_project\\TDOT_Jayanta\\TestAnalysis\\Shapefiles\\ComparisonSites_Emp\\points_2011_Joined.shp\n",
      "Exported joined features to CSV: C:\\Users\\USER\\OneDrive - The University of Memphis\\TDOT_project\\TDOT_Jayanta\\TestAnalysis\\Shapefiles\\ComparisonSites_Emp\\points_2011_Joined.csv\n",
      "Spatial join completed for points_2012 -> Output: C:\\Users\\USER\\OneDrive - The University of Memphis\\TDOT_project\\TDOT_Jayanta\\TestAnalysis\\Shapefiles\\ComparisonSites_Emp\\points_2012_Joined.shp\n",
      "Exported joined features to CSV: C:\\Users\\USER\\OneDrive - The University of Memphis\\TDOT_project\\TDOT_Jayanta\\TestAnalysis\\Shapefiles\\ComparisonSites_Emp\\points_2012_Joined.csv\n",
      "Spatial join completed for points_2013 -> Output: C:\\Users\\USER\\OneDrive - The University of Memphis\\TDOT_project\\TDOT_Jayanta\\TestAnalysis\\Shapefiles\\ComparisonSites_Emp\\points_2013_Joined.shp\n",
      "Exported joined features to CSV: C:\\Users\\USER\\OneDrive - The University of Memphis\\TDOT_project\\TDOT_Jayanta\\TestAnalysis\\Shapefiles\\ComparisonSites_Emp\\points_2013_Joined.csv\n",
      "Spatial join completed for points_2014 -> Output: C:\\Users\\USER\\OneDrive - The University of Memphis\\TDOT_project\\TDOT_Jayanta\\TestAnalysis\\Shapefiles\\ComparisonSites_Emp\\points_2014_Joined.shp\n",
      "Exported joined features to CSV: C:\\Users\\USER\\OneDrive - The University of Memphis\\TDOT_project\\TDOT_Jayanta\\TestAnalysis\\Shapefiles\\ComparisonSites_Emp\\points_2014_Joined.csv\n",
      "Spatial join completed for points_2015 -> Output: C:\\Users\\USER\\OneDrive - The University of Memphis\\TDOT_project\\TDOT_Jayanta\\TestAnalysis\\Shapefiles\\ComparisonSites_Emp\\points_2015_Joined.shp\n",
      "Exported joined features to CSV: C:\\Users\\USER\\OneDrive - The University of Memphis\\TDOT_project\\TDOT_Jayanta\\TestAnalysis\\Shapefiles\\ComparisonSites_Emp\\points_2015_Joined.csv\n",
      "Spatial join completed for points_2016 -> Output: C:\\Users\\USER\\OneDrive - The University of Memphis\\TDOT_project\\TDOT_Jayanta\\TestAnalysis\\Shapefiles\\ComparisonSites_Emp\\points_2016_Joined.shp\n",
      "Exported joined features to CSV: C:\\Users\\USER\\OneDrive - The University of Memphis\\TDOT_project\\TDOT_Jayanta\\TestAnalysis\\Shapefiles\\ComparisonSites_Emp\\points_2016_Joined.csv\n",
      "Spatial join completed for points_2017 -> Output: C:\\Users\\USER\\OneDrive - The University of Memphis\\TDOT_project\\TDOT_Jayanta\\TestAnalysis\\Shapefiles\\ComparisonSites_Emp\\points_2017_Joined.shp\n",
      "Exported joined features to CSV: C:\\Users\\USER\\OneDrive - The University of Memphis\\TDOT_project\\TDOT_Jayanta\\TestAnalysis\\Shapefiles\\ComparisonSites_Emp\\points_2017_Joined.csv\n",
      "Spatial join completed for points_2018 -> Output: C:\\Users\\USER\\OneDrive - The University of Memphis\\TDOT_project\\TDOT_Jayanta\\TestAnalysis\\Shapefiles\\ComparisonSites_Emp\\points_2018_Joined.shp\n",
      "Exported joined features to CSV: C:\\Users\\USER\\OneDrive - The University of Memphis\\TDOT_project\\TDOT_Jayanta\\TestAnalysis\\Shapefiles\\ComparisonSites_Emp\\points_2018_Joined.csv\n",
      "Spatial join completed for points_2019 -> Output: C:\\Users\\USER\\OneDrive - The University of Memphis\\TDOT_project\\TDOT_Jayanta\\TestAnalysis\\Shapefiles\\ComparisonSites_Emp\\points_2019_Joined.shp\n",
      "Exported joined features to CSV: C:\\Users\\USER\\OneDrive - The University of Memphis\\TDOT_project\\TDOT_Jayanta\\TestAnalysis\\Shapefiles\\ComparisonSites_Emp\\points_2019_Joined.csv\n",
      "Spatial join completed for points_2020 -> Output: C:\\Users\\USER\\OneDrive - The University of Memphis\\TDOT_project\\TDOT_Jayanta\\TestAnalysis\\Shapefiles\\ComparisonSites_Emp\\points_2020_Joined.shp\n",
      "Exported joined features to CSV: C:\\Users\\USER\\OneDrive - The University of Memphis\\TDOT_project\\TDOT_Jayanta\\TestAnalysis\\Shapefiles\\ComparisonSites_Emp\\points_2020_Joined.csv\n",
      "Spatial join completed for points_2021 -> Output: C:\\Users\\USER\\OneDrive - The University of Memphis\\TDOT_project\\TDOT_Jayanta\\TestAnalysis\\Shapefiles\\ComparisonSites_Emp\\points_2021_Joined.shp\n",
      "Exported joined features to CSV: C:\\Users\\USER\\OneDrive - The University of Memphis\\TDOT_project\\TDOT_Jayanta\\TestAnalysis\\Shapefiles\\ComparisonSites_Emp\\points_2021_Joined.csv\n",
      "Spatial join completed for points_2022 -> Output: C:\\Users\\USER\\OneDrive - The University of Memphis\\TDOT_project\\TDOT_Jayanta\\TestAnalysis\\Shapefiles\\ComparisonSites_Emp\\points_2022_Joined.shp\n",
      "Exported joined features to CSV: C:\\Users\\USER\\OneDrive - The University of Memphis\\TDOT_project\\TDOT_Jayanta\\TestAnalysis\\Shapefiles\\ComparisonSites_Emp\\points_2022_Joined.csv\n",
      "All spatial joins and CSV exports completed successfully!\n"
     ]
    }
   ],
   "source": [
    "# Loop through each target feature class\n",
    "for target_feature in fc_list:\n",
    "    # Extract the base name of the target feature without extension\n",
    "    target_name = os.path.basename(target_feature).split(\".\")[0]\n",
    "\n",
    "    # Define output feature class (Shapefile)\n",
    "    output_feature = os.path.join(output_folder, f\"{target_name}_Joined.shp\")\n",
    "\n",
    "    # Define CSV output file\n",
    "    csv_output = os.path.join(output_folder, f\"{target_name}_Joined.csv\")\n",
    "\n",
    "    # Check if output file already exists, and delete it if necessary\n",
    "    if arcpy.Exists(output_feature):\n",
    "        arcpy.Delete_management(output_feature)\n",
    "\n",
    "    # Perform spatial join\n",
    "    arcpy.analysis.SpatialJoin(target_feature, join_features, output_feature,\n",
    "                               join_operation, join_type, match_option=match_option)\n",
    "\n",
    "    print(f\"Spatial join completed for {target_name} -> Output: {output_feature}\")\n",
    "\n",
    "    # Export to CSV\n",
    "    arcpy.conversion.TableToTable(output_feature, output_folder, f\"{target_name}_Joined.csv\")\n",
    "\n",
    "    print(f\"Exported joined features to CSV: {csv_output}\")\n",
    "\n",
    "print(\"All spatial joins and CSV exports completed successfully!\")"
   ]
  },
  {
   "cell_type": "code",
   "execution_count": null,
   "metadata": {},
   "outputs": [],
   "source": []
  }
 ],
 "metadata": {
  "kernelspec": {
   "display_name": "ArcGISPro",
   "language": "python",
   "name": "python3"
  },
  "language_info": {
   "file_extension": ".py",
   "mimetype": "text/x-python",
   "name": "python",
   "version": "3.11.10"
  }
 },
 "nbformat": 4,
 "nbformat_minor": 4
}
